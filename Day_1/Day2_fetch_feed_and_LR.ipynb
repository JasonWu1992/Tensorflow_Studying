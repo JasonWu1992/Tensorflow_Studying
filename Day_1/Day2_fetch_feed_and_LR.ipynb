{
 "cells": [
  {
   "cell_type": "code",
   "execution_count": 1,
   "metadata": {},
   "outputs": [
    {
     "name": "stderr",
     "output_type": "stream",
     "text": [
      "D:\\Coding\\language_File\\Anaconda\\lib\\site-packages\\h5py\\__init__.py:36: FutureWarning: Conversion of the second argument of issubdtype from `float` to `np.floating` is deprecated. In future, it will be treated as `np.float64 == np.dtype(float).type`.\n",
      "  from ._conv import register_converters as _register_converters\n"
     ]
    }
   ],
   "source": [
    "import tensorflow as tf"
   ]
  },
  {
   "cell_type": "code",
   "execution_count": 3,
   "metadata": {},
   "outputs": [
    {
     "name": "stdout",
     "output_type": "stream",
     "text": [
      "[35.0, 7.0]\n"
     ]
    }
   ],
   "source": [
    "# 一个会话可以运行多个操作\n",
    "input1 = tf.constant(3.0)\n",
    "input2 = tf.constant(4.0)\n",
    "input3 = tf.constant(5.0)\n",
    "\n",
    "add = tf.add(input1, input2)\n",
    "multi = tf.multiply(input3, add)\n",
    "\n",
    "with tf.Session() as sess:\n",
    "    result = sess.run([multi, add])\n",
    "    print(result)\n",
    "    "
   ]
  },
  {
   "cell_type": "code",
   "execution_count": 6,
   "metadata": {},
   "outputs": [
    {
     "name": "stdout",
     "output_type": "stream",
     "text": [
      "[63.]\n"
     ]
    }
   ],
   "source": [
    "# feed\n",
    "input1 = tf.placeholder(tf.float32)\n",
    "input2 = tf.placeholder(tf.float32)\n",
    "output = tf.multiply(input1, input2)\n",
    "\n",
    "with tf.Session() as sess:\n",
    "    print(sess.run(output, feed_dict = {input1 : [7,], input2 : [9,]}))"
   ]
  },
  {
   "cell_type": "markdown",
   "metadata": {},
   "source": [
    "### 简单的案例"
   ]
  },
  {
   "cell_type": "code",
   "execution_count": 7,
   "metadata": {},
   "outputs": [],
   "source": [
    "import tensorflow as tf\n",
    "import numpy as np"
   ]
  },
  {
   "cell_type": "code",
   "execution_count": 11,
   "metadata": {
    "scrolled": true
   },
   "outputs": [
    {
     "name": "stdout",
     "output_type": "stream",
     "text": [
      "0 [0.194205, 0.40037668, 0.061794605]\n",
      "20 [0.09448184, 0.20293428, 2.675649e-06]\n",
      "40 [0.096834205, 0.2016833, 8.8062893e-07]\n",
      "60 [0.098183796, 0.2009657, 2.898383e-07]\n",
      "80 [0.09895804, 0.20055403, 9.539611e-08]\n",
      "100 [0.09940223, 0.20031784, 3.1397313e-08]\n",
      "120 [0.09965706, 0.20018235, 1.0333919e-08]\n",
      "140 [0.09980325, 0.20010462, 3.4015337e-09]\n",
      "160 [0.099887125, 0.20006002, 1.1194932e-09]\n",
      "180 [0.09993523, 0.20003444, 3.685263e-10]\n"
     ]
    }
   ],
   "source": [
    "# 生成随机点\n",
    "x_data = np.random.rand(100)\n",
    "y_data = x_data*0.1 + 0.2\n",
    "\n",
    "b = tf.Variable(0.6)\n",
    "a = tf.Variable(0.3)\n",
    "\n",
    "y = a*x_data + b\n",
    "\n",
    "# 定义损失函数\n",
    "loss = tf.reduce_mean(tf.square(y_data - y))\n",
    "\n",
    "# 定义优化方法：梯度下降\n",
    "optimizer = tf.train.GradientDescentOptimizer(0.2)\n",
    "\n",
    "#定义一个最小化代价函数\n",
    "train = optimizer.minimize(loss)\n",
    "\n",
    "init = tf.global_variables_initializer()\n",
    "\n",
    "with tf.Session() as sess:\n",
    "    sess.run(init)\n",
    "    for step in range(200):\n",
    "        sess.run(train)\n",
    "        if step % 20 == 0:\n",
    "            print(step, sess.run([a, b, loss]))"
   ]
  },
  {
   "cell_type": "code",
   "execution_count": 27,
   "metadata": {},
   "outputs": [
    {
     "data": {
      "image/png": "[encoded data removed]",
      "text/plain": [
       "<Figure size 432x288 with 1 Axes>"
      ]
     },
     "metadata": {},
     "output_type": "display_data"
    }
   ],
   "source": [
    "import tensorflow as tf\n",
    "import numpy as np\n",
    "import matplotlib.pyplot as plt\n",
    "# 线性回归\n",
    "x_data = np.linspace(-0.5, 0.5, 200)[:,np.newaxis]\n",
    "noise = np.random.normal(0, 0.02, x_data.shape)\n",
    "y_data = np.square(x_data) + noise\n",
    "\n",
    "x = tf.placeholder(tf.float32, [None,1])\n",
    "y = tf.placeholder(tf.float32, [None,1])\n",
    "# 定义中间层\n",
    "w_L1 = tf.Variable(tf.random_normal([1, 10]))\n",
    "b_L1 = tf.Variable(tf.zeros([1, 10]))\n",
    "Wx_L1 = tf.multiply(x, w_L1)+b_L1\n",
    "L1 = tf.nn.tanh(Wx_L1)\n",
    "\n",
    "w_out = tf.Variable(tf.random_normal([10, 1]))\n",
    "b_out = tf.Variable(tf.zeros([1,1]))\n",
    "Wx_out = tf.matmul(L1, w_out) + b_out\n",
    "prediction = tf.nn.tanh(Wx_out)\n",
    "\n",
    "#代价函数\n",
    "loss = tf.reduce_mean(tf.square(y - prediction))\n",
    "\n",
    "train = tf.train.GradientDescentOptimizer(0.1).minimize(loss)\n",
    "\n",
    "init = tf.global_variables_initializer()\n",
    "\n",
    "with tf.Session() as sess:\n",
    "    sess.run(init)\n",
    "    for step in range(2000):\n",
    "        sess.run(train, feed_dict={x:x_data, y:y_data})\n",
    "    \n",
    "#     print(sess.run(loss))\n",
    "    prediction_value = sess.run(prediction, feed_dict={x:x_data})\n",
    "        \n",
    "    plt.figure()\n",
    "    plt.scatter(x_data,y_data)\n",
    "    plt.plot(x_data,prediction_value, 'r-', lw=5)\n",
    "    plt.show()\n"
   ]
  },
  {
   "cell_type": "code",
   "execution_count": null,
   "metadata": {},
   "outputs": [],
   "source": []
  }
 ],
 "metadata": {
  "kernelspec": {
   "display_name": "Python 3",
   "language": "python",
   "name": "python3"
  },
  "language_info": {
   "codemirror_mode": {
    "name": "ipython",
    "version": 3
   },
   "file_extension": ".py",
   "mimetype": "text/x-python",
   "name": "python",
   "nbconvert_exporter": "python",
   "pygments_lexer": "ipython3",
   "version": "3.6.5"
  }
 },
 "nbformat": 4,
 "nbformat_minor": 2
}
